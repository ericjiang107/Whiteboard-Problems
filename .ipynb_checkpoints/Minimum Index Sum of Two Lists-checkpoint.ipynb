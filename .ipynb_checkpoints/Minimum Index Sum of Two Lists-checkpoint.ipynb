{
 "cells": [
  {
   "cell_type": "code",
   "execution_count": null,
   "id": "ca7adf9e",
   "metadata": {},
   "outputs": [],
   "source": [
    "# Minimum Index Sum of Two Lists\n",
    "# Suppose Andy and Doris want to choose a restaurant for dinner, and they both have a \n",
    "# list of favorite restaurants represented by strings. You need to help them find out their \n",
    "# common interest with the least list index sum. If there is a choice tie between answers, \n",
    "# output all of them with no order requirement. You could assume there always exists an answer.\n",
    " \n",
    "# Example 1:\n",
    "# Input: list1 = [\"Shogun\",\"Tapioca Express\",\"Burger King\",\"KFC\"], \n",
    "# list2 = [\"Piatti\",\"The Grill at Torrey Pines\",\"Hungry Hunter Steakhouse\",\"Shogun\"]\n",
    "# Output: [\"Shogun\"]\n",
    "# Explanation: The only restaurant they both like is \"Shogun\".\n",
    " \n",
    "# Example 2:\n",
    "# Input: list1 = [\"Shogun\",\"Tapioca Express\",\"Burger King\",\"KFC\"], list2 = [\"KFC\",\"Shogun\",\"Burger King\"]\n",
    "# Output: [\"Shogun\"]\n",
    "# Explanation: The restaurant they both like and have the least index sum is \"Shogun\" with index sum 1 (0+1).\n",
    " \n",
    "# Example 3:\n",
    "# Input: list1 = [\"Shogun\",\"Tapioca Express\",\"Burger King\",\"KFC\"], list2 = [\"KFC\",\"Burger King\",\"Tapioca Express\",\"Shogun\"]\n",
    "# Output: [\"KFC\",\"Burger King\",\"Tapioca Express\",\"Shogun\"]\n",
    "\n",
    "# Example 4:\n",
    "# Input: list1 = [\"Shogun\",\"Tapioca Express\",\"Burger King\",\"KFC\"], \n",
    "# list2 = [\"KNN\",\"KFC\",\"Burger King\",\"Tapioca Express\",\"Shogun\"]\n",
    "# Output: [\"KFC\",\"Burger King\",\"Tapioca Express\",\"Shogun\"]\n",
    "\n",
    "# Example 5:\n",
    "# Input: list1 = [\"KFC\"], list2 = [\"KFC\"]\n",
    "# Output: [\"KFC\"]\n"
   ]
  },
  {
   "cell_type": "code",
   "execution_count": 4,
   "id": "bf5e46a9",
   "metadata": {},
   "outputs": [
    {
     "data": {
      "text/plain": [
       "['Shogun']"
      ]
     },
     "execution_count": 4,
     "metadata": {},
     "output_type": "execute_result"
    }
   ],
   "source": [
    "def common(list_a, list_b):\n",
    "    total = len(list_a) + len(list_b)\n",
    "    empty_list = []\n",
    "    for i in range(len(list_a)):\n",
    "        if list_a[i] in list_b:\n",
    "            j = list_b.index(list_a[i])\n",
    "            if i + j < total:\n",
    "                total = i + j\n",
    "                empty_list.append(list_a[i])\n",
    "            elif i + j == total:\n",
    "                empty_list.append(list_a[i])\n",
    "    return empty_list\n",
    "\n",
    "common([\"Shogun\",\"Tapioca Express\",\"Burger King\",\"KFC\"], [\"Piatti\",\"The Grill at Torrey Pines\",\"Hungry Hunter Steakhouse\",\"Shogun\"])"
   ]
  },
  {
   "cell_type": "code",
   "execution_count": 5,
   "id": "00dccbcc",
   "metadata": {},
   "outputs": [
    {
     "data": {
      "text/plain": [
       "['Shogun', 'Tapioca Express', 'Burger King', 'KFC']"
      ]
     },
     "execution_count": 5,
     "metadata": {},
     "output_type": "execute_result"
    }
   ],
   "source": [
    "# Optimal Solution:\n",
    "def findCommon(l_1, l_2):\n",
    "    a_dict = {}\n",
    "    for i in range(len(l_1)):\n",
    "        a_dict[l_1[i]] = i\n",
    "    for i in range(len(l_2)):\n",
    "        if l_2[i] in a_dict:\n",
    "            a_dict[l_2[i]] += i\n",
    "    \n",
    "    countersum = None\n",
    "    final_restaurant = []\n",
    "    common = set(list1) & set(list2)\n",
    "    for rest in common:\n",
    "        if countersum == None:\n",
    "            countersum = a_dict[rest]\n",
    "            final_restaurant.append(rest)\n",
    "        elif a_dict[rest] == countersum:\n",
    "            final_restaurant.append(rest)\n",
    "        elif a_dict[rest] < countersum:\n",
    "            countersum = a_dict[rest]\n",
    "            final_restaurant = []\n",
    "            final_restaurant.append(rest)\n",
    "    return final_restaurant\n",
    "        \n",
    "    \n",
    "            \n",
    "list1 =  [\"Shogun\",\"Tapioca Express\",\"Burger King\",\"KFC\"]\n",
    "list2 = [\"KNN\",\"KFC\",\"Burger King\",\"Tapioca Express\",\"Shogun\"]\n",
    "        \n",
    "            \n",
    "findCommon(list1,list2) "
   ]
  },
  {
   "cell_type": "code",
   "execution_count": null,
   "id": "e3e7348b",
   "metadata": {},
   "outputs": [],
   "source": []
  }
 ],
 "metadata": {
  "kernelspec": {
   "display_name": "Python 3",
   "language": "python",
   "name": "python3"
  },
  "language_info": {
   "codemirror_mode": {
    "name": "ipython",
    "version": 3
   },
   "file_extension": ".py",
   "mimetype": "text/x-python",
   "name": "python",
   "nbconvert_exporter": "python",
   "pygments_lexer": "ipython3",
   "version": "3.9.5"
  }
 },
 "nbformat": 4,
 "nbformat_minor": 5
}
