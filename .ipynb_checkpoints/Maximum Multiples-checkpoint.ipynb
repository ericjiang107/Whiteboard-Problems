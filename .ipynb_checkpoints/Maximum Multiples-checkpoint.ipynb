{
 "cells": [
  {
   "cell_type": "code",
   "execution_count": null,
   "id": "a0a54a01",
   "metadata": {},
   "outputs": [],
   "source": [
    "# Maximum Multiples\n",
    "# Given a divisor and a bound, find the largest integer N such that:\n",
    "# N is divisible by the divisor\n",
    "# N is less than or equal to bound\n",
    "# N is greater than 0\n",
    "# Example Input: solution(2,7)\n",
    "# Example Output: 6\n",
    "# Example Input: solution(3,12)\n",
    "# Example Output: 12\n"
   ]
  },
  {
   "cell_type": "code",
   "execution_count": 2,
   "id": "c001be68",
   "metadata": {},
   "outputs": [
    {
     "data": {
      "text/plain": [
       "12"
      ]
     },
     "execution_count": 2,
     "metadata": {},
     "output_type": "execute_result"
    }
   ],
   "source": [
    "def solution(a,b):\n",
    "    if b % a == 0:\n",
    "        return b\n",
    "    else:\n",
    "        return b-1\n",
    "solution(3,12)"
   ]
  },
  {
   "cell_type": "code",
   "execution_count": null,
   "id": "d50d6d4f",
   "metadata": {},
   "outputs": [],
   "source": []
  }
 ],
 "metadata": {
  "kernelspec": {
   "display_name": "Python 3",
   "language": "python",
   "name": "python3"
  },
  "language_info": {
   "codemirror_mode": {
    "name": "ipython",
    "version": 3
   },
   "file_extension": ".py",
   "mimetype": "text/x-python",
   "name": "python",
   "nbconvert_exporter": "python",
   "pygments_lexer": "ipython3",
   "version": "3.9.5"
  }
 },
 "nbformat": 4,
 "nbformat_minor": 5
}
