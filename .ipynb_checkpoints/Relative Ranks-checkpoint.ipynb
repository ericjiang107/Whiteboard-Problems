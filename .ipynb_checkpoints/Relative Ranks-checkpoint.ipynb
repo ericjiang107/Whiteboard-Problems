{
 "cells": [
  {
   "cell_type": "code",
   "execution_count": null,
   "id": "3aa20da6",
   "metadata": {},
   "outputs": [],
   "source": [
    "# Relative Ranks\n",
    "# You are given an integer array score of size n, where score[i] is the score of the ith athlete in a competition. All the scores are guaranteed to be unique.\n",
    "# The athletes are placed based on their scores, where the 1st place athlete has the highest score, the 2nd place athlete has the 2nd highest score, and so on. The placement of each athlete determines their rank:\n",
    "# The 1st place athlete's rank is \"Gold Medal\".\n",
    "# The 2nd place athlete's rank is \"Silver Medal\".\n",
    "# The 3rd place athlete's rank is \"Bronze Medal\".\n",
    "# For the 4th place to the nth place athlete, their rank is their placement number (i.e., the xth place athlete's rank is \"x\").\n",
    "# Return an array answer of size n where answer[i] is the rank of the ith athlete.\n",
    " \n",
    "# Example 1:\n",
    "# Input: score = [5,4,3,2,1]\n",
    "# Output: [\"Gold Medal\",\"Silver Medal\",\"Bronze Medal\",\"4\",\"5\"]\n",
    "# Explanation: The placements are [1st, 2nd, 3rd, 4th, 5th].\n",
    "# Example 2:\n",
    "# Input: score = [10,3,8,9,4]\n",
    "# Output: [\"Gold Medal\",\"5\",\"Bronze Medal\",\"Silver Medal\",\"4\"]\n",
    "# Explanation: The placements are [1st, 5th, 3rd, 2nd, 4th].\n",
    "\n",
    "# Constraints:\n",
    "# n == score.length\n",
    "# 1 <= n <= 104\n",
    "# 0 <= score[i] <= 106\n",
    "# All the values in score are unique.\n"
   ]
  },
  {
   "cell_type": "code",
   "execution_count": 1,
   "id": "0457e9a3",
   "metadata": {},
   "outputs": [
    {
     "data": {
      "text/plain": [
       "['Gold Medal', 5, 'Bronze Medal', 'Silver Medal', 4]"
      ]
     },
     "execution_count": 1,
     "metadata": {},
     "output_type": "execute_result"
    }
   ],
   "source": [
    "def rank(test):\n",
    "    Sorted_test = sorted(test, reverse=True)\n",
    "    Empty_dict = {}\n",
    "    Empty_list = []\n",
    "    for i in range(len(Sorted_test)):\n",
    "        Empty_dict[Sorted_test[i]] = i\n",
    "    for num in test:\n",
    "        if Empty_dict[num] == 0:\n",
    "            Empty_list.append(\"Gold Medal\")\n",
    "        elif Empty_dict[num] == 1:\n",
    "            Empty_list.append(\"Silver Medal\")\n",
    "        elif Empty_dict[num] == 2:\n",
    "            Empty_list.append(\"Bronze Medal\")\n",
    "        else: \n",
    "            Empty_list.append(Empty_dict[num]+1)\n",
    "    return Empty_list\n",
    "rank([10,3,8,9,4])"
   ]
  },
  {
   "cell_type": "code",
   "execution_count": null,
   "id": "19ffa16b",
   "metadata": {},
   "outputs": [],
   "source": []
  }
 ],
 "metadata": {
  "kernelspec": {
   "display_name": "Python 3",
   "language": "python",
   "name": "python3"
  },
  "language_info": {
   "codemirror_mode": {
    "name": "ipython",
    "version": 3
   },
   "file_extension": ".py",
   "mimetype": "text/x-python",
   "name": "python",
   "nbconvert_exporter": "python",
   "pygments_lexer": "ipython3",
   "version": "3.9.5"
  }
 },
 "nbformat": 4,
 "nbformat_minor": 5
}
