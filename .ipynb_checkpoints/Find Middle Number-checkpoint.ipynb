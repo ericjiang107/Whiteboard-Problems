{
 "cells": [
  {
   "cell_type": "code",
   "execution_count": null,
   "id": "b6c565e4",
   "metadata": {},
   "outputs": [],
   "source": [
    "# Find Middle Number\n",
    "# Given a number (n) and an array of numbers (num_list) as input to a function, return True if the number is greater than the middle number of the array. Return False if the number is less than the middle number of the array.\n",
    "# Example Input: n = 6, array = [3,5,8,10]\n",
    "# Example Output: True\n",
    "# Example Input: n = 105, array = [10,30,44,22,100]\n",
    "# Example Output: True"
   ]
  },
  {
   "cell_type": "code",
   "execution_count": 12,
   "id": "39ac99ba",
   "metadata": {},
   "outputs": [
    {
     "name": "stdout",
     "output_type": "stream",
     "text": [
      "1\n"
     ]
    },
    {
     "data": {
      "text/plain": [
       "True"
      ]
     },
     "execution_count": 12,
     "metadata": {},
     "output_type": "execute_result"
    }
   ],
   "source": [
    "def evalMiddle(arr, n):\n",
    "    target = ((len(arr)-1) // 2) \n",
    "    print(target)\n",
    "    if n > arr[target]:\n",
    "        return True\n",
    "    else:\n",
    "        return False\n",
    "evalMiddle([3,5,8,10], 6)"
   ]
  },
  {
   "cell_type": "code",
   "execution_count": null,
   "id": "4f8af76c",
   "metadata": {},
   "outputs": [],
   "source": []
  }
 ],
 "metadata": {
  "kernelspec": {
   "display_name": "Python 3",
   "language": "python",
   "name": "python3"
  },
  "language_info": {
   "codemirror_mode": {
    "name": "ipython",
    "version": 3
   },
   "file_extension": ".py",
   "mimetype": "text/x-python",
   "name": "python",
   "nbconvert_exporter": "python",
   "pygments_lexer": "ipython3",
   "version": "3.9.5"
  }
 },
 "nbformat": 4,
 "nbformat_minor": 5
}
