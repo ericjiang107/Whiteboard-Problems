{
 "cells": [
  {
   "cell_type": "code",
   "execution_count": null,
   "id": "5501d2fe",
   "metadata": {},
   "outputs": [],
   "source": [
    "# Two Sum Problem\n",
    "# Create a function that given a list of numbers (that are sorted) and a target number as a sum, return the indexes of the two numbers that when added equal the target number.\n",
    "# Example Input: [2,7,11,15], target = 9\n",
    "# Example Output: [0,1]\n",
    "\n",
    "# Example Input: [4,7,8,9, 10, 15, 19, 20], target = 25\n",
    "# Example Output: [4, 5]\n"
   ]
  },
  {
   "cell_type": "code",
   "execution_count": 4,
   "id": "9f708a6a",
   "metadata": {},
   "outputs": [
    {
     "data": {
      "text/plain": [
       "[2, 7]"
      ]
     },
     "execution_count": 4,
     "metadata": {},
     "output_type": "execute_result"
    }
   ],
   "source": [
    "def sum(a, b):\n",
    "    for num in range(len(a)):\n",
    "        for i in range(len(a)):\n",
    "            if a[num] + a[i] == b:     \n",
    "                return [a[num], a[i]]\n",
    "sum([2,7,11,15], 9)"
   ]
  },
  {
   "cell_type": "code",
   "execution_count": 10,
   "id": "1eda6b3d",
   "metadata": {},
   "outputs": [
    {
     "data": {
      "text/plain": [
       "[2, 7]"
      ]
     },
     "execution_count": 10,
     "metadata": {},
     "output_type": "execute_result"
    }
   ],
   "source": [
    "# another better solution:\n",
    "\n",
    "def sum(a, b):\n",
    "    for i in range(len(a)-1):\n",
    "        j = i+1 # updating value everytime you increment\n",
    "        while j < len(a):\n",
    "            if a[i] + a[j] == b:\n",
    "                return [a[i], a[j]]\n",
    "            j += 1 # j will continue inside looking for a match if we don't find one\n",
    "    return False\n",
    "sum([2,7,11,15], 9)"
   ]
  },
  {
   "cell_type": "code",
   "execution_count": 11,
   "id": "0013bde2",
   "metadata": {},
   "outputs": [
    {
     "data": {
      "text/plain": [
       "[1, 0]"
      ]
     },
     "execution_count": 11,
     "metadata": {},
     "output_type": "execute_result"
    }
   ],
   "source": [
    "# optimal solution\n",
    "\n",
    "def sum(a, b):\n",
    "    a_dict = {}\n",
    "    for i in range(len(a)):\n",
    "        # looking for a match right now:\n",
    "        match = b - a[i]\n",
    "        # checking if match is inside a: \n",
    "        if match in a_dict:\n",
    "            return [i, a_dict[match]] # will return the indeces \n",
    "        else:\n",
    "            a_dict[a[i]] = i # setting the dictionary value to the new value index\n",
    "    return False\n",
    "   \n",
    "sum([2,7,11,15], 9)"
   ]
  }
 ],
 "metadata": {
  "kernelspec": {
   "display_name": "Python 3",
   "language": "python",
   "name": "python3"
  },
  "language_info": {
   "codemirror_mode": {
    "name": "ipython",
    "version": 3
   },
   "file_extension": ".py",
   "mimetype": "text/x-python",
   "name": "python",
   "nbconvert_exporter": "python",
   "pygments_lexer": "ipython3",
   "version": "3.9.5"
  }
 },
 "nbformat": 4,
 "nbformat_minor": 5
}
