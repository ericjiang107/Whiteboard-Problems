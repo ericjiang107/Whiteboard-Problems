{
 "cells": [
  {
   "cell_type": "code",
   "execution_count": 1,
   "id": "b3d9d29a",
   "metadata": {},
   "outputs": [],
   "source": [
    "# Least Larger\n",
    "# Given an array of numbers and an index, return the index of the least number\n",
    "# larger than the element at the given index, or -1 if there is no such index.\n",
    "# Example:\n",
    "# Input: ([4, 1, 3, 5, 6], 0 ) \n",
    "# Output: 3\n",
    "# Input: ([4, 1, 3, 5, 6], 4)\n",
    "# Output: -1\n",
    "\n",
    "# numbers, index \n",
    "# return the index (least number) but is > value of the given index\n",
    "# if no index exists, return -1\n"
   ]
  },
  {
   "cell_type": "code",
   "execution_count": 2,
   "id": "4d0c8a1e",
   "metadata": {},
   "outputs": [
    {
     "data": {
      "text/plain": [
       "-1"
      ]
     },
     "execution_count": 2,
     "metadata": {},
     "output_type": "execute_result"
    }
   ],
   "source": [
    "def index(list1, index1):\n",
    "    Close = None\n",
    "    Idx = -1\n",
    "    for i in range(len(list1)):\n",
    "        if list1[i] > list1[index1]:\n",
    "            if Close == None:\n",
    "                Close = list1[i]\n",
    "                Idx = i\n",
    "            elif list1[i] < Close:\n",
    "                Close = list1[i]\n",
    "                Idx = i\n",
    "    return Idx\n",
    "index([4, 1, 3, 5, 6], 4)"
   ]
  },
  {
   "cell_type": "code",
   "execution_count": null,
   "id": "6d6ffb8f",
   "metadata": {},
   "outputs": [],
   "source": []
  }
 ],
 "metadata": {
  "kernelspec": {
   "display_name": "Python 3",
   "language": "python",
   "name": "python3"
  },
  "language_info": {
   "codemirror_mode": {
    "name": "ipython",
    "version": 3
   },
   "file_extension": ".py",
   "mimetype": "text/x-python",
   "name": "python",
   "nbconvert_exporter": "python",
   "pygments_lexer": "ipython3",
   "version": "3.9.5"
  }
 },
 "nbformat": 4,
 "nbformat_minor": 5
}
